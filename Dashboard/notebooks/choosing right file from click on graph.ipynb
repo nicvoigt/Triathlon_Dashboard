{
 "cells": [
  {
   "cell_type": "code",
   "execution_count": 1,
   "metadata": {},
   "outputs": [],
   "source": [
    "point = {'points': [{'curveNumber': 0, 'pointNumber': 34, 'pointIndex': 34, 'x': 'Fitnessstudio und -geräte', 'y': 0}]}"
   ]
  },
  {
   "cell_type": "code",
   "execution_count": 10,
   "metadata": {},
   "outputs": [
    {
     "data": {
      "text/plain": [
       "34"
      ]
     },
     "execution_count": 10,
     "metadata": {},
     "output_type": "execute_result"
    }
   ],
   "source": [
    "point[\"points\"][0][\"pointNumber\"]"
   ]
  },
  {
   "cell_type": "code",
   "execution_count": 34,
   "metadata": {},
   "outputs": [
    {
     "data": {
      "text/html": [
       "<div>\n",
       "<style scoped>\n",
       "    .dataframe tbody tr th:only-of-type {\n",
       "        vertical-align: middle;\n",
       "    }\n",
       "\n",
       "    .dataframe tbody tr th {\n",
       "        vertical-align: top;\n",
       "    }\n",
       "\n",
       "    .dataframe thead th {\n",
       "        text-align: right;\n",
       "    }\n",
       "</style>\n",
       "<table border=\"1\" class=\"dataframe\">\n",
       "  <thead>\n",
       "    <tr style=\"text-align: right;\">\n",
       "      <th></th>\n",
       "      <th>Aktivitätstyp</th>\n",
       "      <th>Datum</th>\n",
       "      <th>Favorit</th>\n",
       "      <th>Titel</th>\n",
       "      <th>Distanz</th>\n",
       "      <th>Kalorien</th>\n",
       "      <th>Zeit</th>\n",
       "      <th>Ø Herzfrequenz</th>\n",
       "      <th>Maximale Herzfrequenz</th>\n",
       "      <th>Aerober TE</th>\n",
       "      <th>...</th>\n",
       "      <th>Ø Swolf</th>\n",
       "      <th>Ø Schlagrate</th>\n",
       "      <th>Kletterzeit</th>\n",
       "      <th>Grundzeit</th>\n",
       "      <th>Minimale Temperatur</th>\n",
       "      <th>Oberflächenpause</th>\n",
       "      <th>Dekompression</th>\n",
       "      <th>Beste Rundenzeit</th>\n",
       "      <th>Anzahl der Runden</th>\n",
       "      <th>Maximale Temperatur</th>\n",
       "    </tr>\n",
       "  </thead>\n",
       "  <tbody>\n",
       "    <tr>\n",
       "      <th>0</th>\n",
       "      <td>Fitnessstudio und -geräte</td>\n",
       "      <td>2020-09-13 12:16:00</td>\n",
       "      <td>False</td>\n",
       "      <td>Fitnessstudio und -geräte</td>\n",
       "      <td>0.00</td>\n",
       "      <td>539</td>\n",
       "      <td>01:00:00</td>\n",
       "      <td>--</td>\n",
       "      <td>--</td>\n",
       "      <td>--</td>\n",
       "      <td>...</td>\n",
       "      <td>--</td>\n",
       "      <td>--</td>\n",
       "      <td>1:00:00</td>\n",
       "      <td>0:00</td>\n",
       "      <td>0.0</td>\n",
       "      <td>0:00</td>\n",
       "      <td>Nein</td>\n",
       "      <td>01:00:00.00</td>\n",
       "      <td>1</td>\n",
       "      <td>0.0</td>\n",
       "    </tr>\n",
       "    <tr>\n",
       "      <th>1</th>\n",
       "      <td>Radfahren</td>\n",
       "      <td>2020-09-11 11:32:33</td>\n",
       "      <td>False</td>\n",
       "      <td>Freiburg im Breisgau Radfahren</td>\n",
       "      <td>50.41</td>\n",
       "      <td>1,407</td>\n",
       "      <td>02:55:15</td>\n",
       "      <td>130</td>\n",
       "      <td>163</td>\n",
       "      <td>3.5</td>\n",
       "      <td>...</td>\n",
       "      <td>--</td>\n",
       "      <td>--</td>\n",
       "      <td>2:55:15</td>\n",
       "      <td>0:00</td>\n",
       "      <td>25.0</td>\n",
       "      <td>0:00</td>\n",
       "      <td>Nein</td>\n",
       "      <td>01:29.88</td>\n",
       "      <td>11</td>\n",
       "      <td>0.0</td>\n",
       "    </tr>\n",
       "    <tr>\n",
       "      <th>2</th>\n",
       "      <td>Bouldern</td>\n",
       "      <td>2020-09-10 16:27:00</td>\n",
       "      <td>False</td>\n",
       "      <td>Bouldern</td>\n",
       "      <td>0.00</td>\n",
       "      <td>988</td>\n",
       "      <td>01:00:00</td>\n",
       "      <td>--</td>\n",
       "      <td>--</td>\n",
       "      <td>--</td>\n",
       "      <td>...</td>\n",
       "      <td>--</td>\n",
       "      <td>--</td>\n",
       "      <td>1:00:00</td>\n",
       "      <td>0:00</td>\n",
       "      <td>0.0</td>\n",
       "      <td>0:00</td>\n",
       "      <td>Nein</td>\n",
       "      <td>01:00:00.00</td>\n",
       "      <td>1</td>\n",
       "      <td>0.0</td>\n",
       "    </tr>\n",
       "    <tr>\n",
       "      <th>3</th>\n",
       "      <td>Freiwasserschwimmen</td>\n",
       "      <td>2020-09-09 19:13:15</td>\n",
       "      <td>False</td>\n",
       "      <td>Freiburg im Breisgau Freiwasserschwimmen</td>\n",
       "      <td>623</td>\n",
       "      <td>154</td>\n",
       "      <td>00:14:59</td>\n",
       "      <td>--</td>\n",
       "      <td>--</td>\n",
       "      <td>--</td>\n",
       "      <td>...</td>\n",
       "      <td>52</td>\n",
       "      <td>26</td>\n",
       "      <td>14:59</td>\n",
       "      <td>0:00</td>\n",
       "      <td>22.0</td>\n",
       "      <td>0:00</td>\n",
       "      <td>Nein</td>\n",
       "      <td>14:59.00</td>\n",
       "      <td>1</td>\n",
       "      <td>0.0</td>\n",
       "    </tr>\n",
       "    <tr>\n",
       "      <th>4</th>\n",
       "      <td>Radfahren</td>\n",
       "      <td>2020-09-09 16:54:40</td>\n",
       "      <td>False</td>\n",
       "      <td>Freiburg im Breisgau Radfahren</td>\n",
       "      <td>13.98</td>\n",
       "      <td>498</td>\n",
       "      <td>00:38:41</td>\n",
       "      <td>--</td>\n",
       "      <td>--</td>\n",
       "      <td>--</td>\n",
       "      <td>...</td>\n",
       "      <td>--</td>\n",
       "      <td>--</td>\n",
       "      <td>38:41</td>\n",
       "      <td>0:00</td>\n",
       "      <td>28.0</td>\n",
       "      <td>0:00</td>\n",
       "      <td>Nein</td>\n",
       "      <td>11:24.15</td>\n",
       "      <td>3</td>\n",
       "      <td>0.0</td>\n",
       "    </tr>\n",
       "  </tbody>\n",
       "</table>\n",
       "<p>5 rows × 33 columns</p>\n",
       "</div>"
      ],
      "text/plain": [
       "               Aktivitätstyp                Datum  Favorit  \\\n",
       "0  Fitnessstudio und -geräte  2020-09-13 12:16:00    False   \n",
       "1                  Radfahren  2020-09-11 11:32:33    False   \n",
       "2                   Bouldern  2020-09-10 16:27:00    False   \n",
       "3        Freiwasserschwimmen  2020-09-09 19:13:15    False   \n",
       "4                  Radfahren  2020-09-09 16:54:40    False   \n",
       "\n",
       "                                      Titel Distanz Kalorien      Zeit  \\\n",
       "0                 Fitnessstudio und -geräte    0.00      539  01:00:00   \n",
       "1            Freiburg im Breisgau Radfahren   50.41    1,407  02:55:15   \n",
       "2                                  Bouldern    0.00      988  01:00:00   \n",
       "3  Freiburg im Breisgau Freiwasserschwimmen     623      154  00:14:59   \n",
       "4            Freiburg im Breisgau Radfahren   13.98      498  00:38:41   \n",
       "\n",
       "  Ø Herzfrequenz Maximale Herzfrequenz Aerober TE  ... Ø Swolf Ø Schlagrate  \\\n",
       "0             --                    --         --  ...      --           --   \n",
       "1            130                   163        3.5  ...      --           --   \n",
       "2             --                    --         --  ...      --           --   \n",
       "3             --                    --         --  ...      52           26   \n",
       "4             --                    --         --  ...      --           --   \n",
       "\n",
       "  Kletterzeit Grundzeit Minimale Temperatur Oberflächenpause  Dekompression  \\\n",
       "0     1:00:00      0:00                 0.0             0:00           Nein   \n",
       "1     2:55:15      0:00                25.0             0:00           Nein   \n",
       "2     1:00:00      0:00                 0.0             0:00           Nein   \n",
       "3       14:59      0:00                22.0             0:00           Nein   \n",
       "4       38:41      0:00                28.0             0:00           Nein   \n",
       "\n",
       "   Beste Rundenzeit  Anzahl der Runden  Maximale Temperatur  \n",
       "0       01:00:00.00                  1                  0.0  \n",
       "1          01:29.88                 11                  0.0  \n",
       "2       01:00:00.00                  1                  0.0  \n",
       "3          14:59.00                  1                  0.0  \n",
       "4          11:24.15                  3                  0.0  \n",
       "\n",
       "[5 rows x 33 columns]"
      ]
     },
     "execution_count": 34,
     "metadata": {},
     "output_type": "execute_result"
    }
   ],
   "source": [
    "import pandas as pd\n",
    "df0 = pd.read_csv(r\"C:\\Users\\nicoj\\netcase\\1-Start-UP\\Triathlon\\Activities.csv\")\n",
    "df0.head()"
   ]
  },
  {
   "cell_type": "code",
   "execution_count": 38,
   "metadata": {},
   "outputs": [
    {
     "data": {
      "text/plain": [
       "'Radfahren_20200711_111750_.csv'"
      ]
     },
     "execution_count": 38,
     "metadata": {},
     "output_type": "execute_result"
    }
   ],
   "source": [
    "time_str = str(\"_\") + df0.iloc[44,:][\"Datum\"].replace(\"-\", \"\").replace(\" \",\"_\").replace(\":\", \"\") + str(\"_\")\n",
    "time_str\n",
    "\n",
    "act_str = df0.iloc[44,:][\"Aktivitätstyp\"]\n",
    "file_str = act_str + time_str + \".csv\"\n",
    "file_str"
   ]
  },
  {
   "cell_type": "code",
   "execution_count": 33,
   "metadata": {},
   "outputs": [
    {
     "data": {
      "text/plain": [
       "Index(['Datum', 'Favorit', 'Titel', 'Distanz', 'Kalorien', 'Zeit',\n",
       "       'Ø Herzfrequenz', 'Maximale Herzfrequenz', 'Aerober TE',\n",
       "       'Ø Schrittfrequenz (Laufen)', 'Max. Schrittfrequenz (Laufen)',\n",
       "       'Ø Geschwindigkeit', 'Maximale Geschwindigkeit',\n",
       "       'Positiver Höhenunterschied', 'Negativer Höhenunterschied',\n",
       "       'Ø Schrittlänge', 'Durchschnittliches vertikales Verhältnis',\n",
       "       'Ø vertikale Bewegung', 'Training Stress Score®', 'Grit', 'Flow',\n",
       "       'Züge insgesamt', 'Ø Swolf', 'Ø Schlagrate', 'Kletterzeit', 'Grundzeit',\n",
       "       'Minimale Temperatur', 'Oberflächenpause', 'Dekompression',\n",
       "       'Beste Rundenzeit', 'Anzahl der Runden', 'Maximale Temperatur'],\n",
       "      dtype='object')"
      ]
     },
     "execution_count": 33,
     "metadata": {},
     "output_type": "execute_result"
    }
   ],
   "source": [
    "df0.columns"
   ]
  },
  {
   "cell_type": "code",
   "execution_count": 36,
   "metadata": {},
   "outputs": [
    {
     "data": {
      "text/plain": [
       "0      Fitnessstudio und -geräte\n",
       "1                      Radfahren\n",
       "2                       Bouldern\n",
       "3            Freiwasserschwimmen\n",
       "4                      Radfahren\n",
       "                 ...            \n",
       "129                    Radfahren\n",
       "130                       Laufen\n",
       "131                        Gehen\n",
       "132                        Gehen\n",
       "133                        Gehen\n",
       "Name: Aktivitätstyp, Length: 134, dtype: object"
      ]
     },
     "execution_count": 36,
     "metadata": {},
     "output_type": "execute_result"
    }
   ],
   "source": [
    "df0[\"Aktivitätstyp\"]"
   ]
  },
  {
   "cell_type": "code",
   "execution_count": null,
   "metadata": {},
   "outputs": [],
   "source": []
  }
 ],
 "metadata": {
  "kernelspec": {
   "display_name": "Python 3",
   "language": "python",
   "name": "python3"
  },
  "language_info": {
   "codemirror_mode": {
    "name": "ipython",
    "version": 3
   },
   "file_extension": ".py",
   "mimetype": "text/x-python",
   "name": "python",
   "nbconvert_exporter": "python",
   "pygments_lexer": "ipython3",
   "version": "3.7.6"
  }
 },
 "nbformat": 4,
 "nbformat_minor": 4
}
