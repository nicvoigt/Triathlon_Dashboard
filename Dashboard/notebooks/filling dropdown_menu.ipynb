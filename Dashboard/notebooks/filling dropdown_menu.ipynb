{
 "cells": [
  {
   "cell_type": "code",
   "execution_count": 11,
   "metadata": {},
   "outputs": [],
   "source": [
    "import glob, os\n",
    "#change directory to following folder\n",
    "os.chdir(r\"C:\\Users\\nicoj\\netcase\\1-Start-UP\\Triathlon\\Aktivitaeten_csv\")\n",
    "\n",
    "#initiate list with activities:\n",
    "act_list = []\n",
    "for file in glob.glob(\"*.*\"):\n",
    "    if str(file).count(\".csv\")==1:\n",
    "        act_list.append(file)"
   ]
  },
  {
   "cell_type": "code",
   "execution_count": 12,
   "metadata": {},
   "outputs": [
    {
     "name": "stdout",
     "output_type": "stream",
     "text": [
      "['Freiwasserschwimmen_20200702-114346_.csv', 'Freiwasserschwimmen_20200703-072708_.csv', 'Freiwasserschwimmen_20200707-080206_.csv', 'Freiwasserschwimmen_20200709-181939_.csv', 'Freiwasserschwimmen_20200727-190032_.csv', 'Freiwasserschwimmen_20200731-184613_.csv', 'Freiwasserschwimmen_20200808-161803_.csv', 'Laufen_20200524-121205_.csv', 'Laufen_20200603-211809_.csv', 'Laufen_20200618-122934_.csv', 'Laufen_20200619-181713_.csv', 'Laufen_20200619-181818_.csv', 'Laufen_20200619-182158_.csv', 'Laufen_20200622-172356_.csv', 'Laufen_20200624-185505_.csv', 'Laufen_20200630-203104_.csv', 'Laufen_20200706-193910_.csv', 'Laufen_20200710-190628_.csv', 'Laufen_20200714-181306_.csv', 'Laufen_20200728-190739_.csv', 'Laufen_20200803-081936_.csv', 'Laufen_20200807-135519_.csv', 'Laufen_20200813-201722_.csv', 'Radfahren_20200520-122030_.csv', 'Radfahren_20200521-111817_.csv', 'Radfahren_20200521-130212_.csv', 'Radfahren_20200525-151020_.csv', 'Radfahren_20200527-132740_.csv', 'Radfahren_20200528-190218_.csv', 'Radfahren_20200531-110814_.csv', 'Radfahren_20200531-161922_.csv', 'Radfahren_20200601-123018_.csv', 'Radfahren_20200601-135719_.csv', 'Radfahren_20200606-103911_.csv', 'Radfahren_20200607-143536_.csv', 'Radfahren_20200609-112332_.csv', 'Radfahren_20200610-112609_.csv', 'Radfahren_20200612-104614_.csv', 'Radfahren_20200614-110651_.csv', 'Radfahren_20200616-120844_.csv', 'Radfahren_20200616-152916_.csv', 'Radfahren_20200620-101853_.csv', 'Radfahren_20200625-085619_.csv', 'Radfahren_20200626-104116_.csv', 'Radfahren_20200628-171937_.csv', 'Radfahren_20200629-161409_.csv', 'Radfahren_20200629-165736_.csv', 'Radfahren_20200630-120529_.csv', 'Radfahren_20200630-171943_.csv', 'Radfahren_20200704-105120_.csv', 'Radfahren_20200707-175224_.csv', 'Radfahren_20200708-171154_.csv', 'Radfahren_20200711-111750_.csv', 'Radfahren_20200712-142446_.csv', 'Radfahren_20200720-134809_.csv', 'Radfahren_20200721-180040_.csv', 'Radfahren_20200723-162121_.csv', 'Radfahren_20200725-121236_.csv', 'Radfahren_20200804-182147_.csv', 'Radfahren_20200805-173012_.csv', 'Radfahren_20200806-162603_.csv', 'Radfahren_20200811-174400_.csv', 'Radfahren_20200815-110040_.csv', 'Radfahren_20200815-185652_.csv', 'Schwimmbadschwimmen_20200613-102722_.csv', 'Schwimmbadschwimmen_20200613-111055_.csv', 'Schwimmbadschwimmen_20200616-104057_.csv', 'Schwimmbadschwimmen_20200624-105509_.csv']\n"
     ]
    }
   ],
   "source": [
    "print(act_list)"
   ]
  },
  {
   "cell_type": "code",
   "execution_count": 18,
   "metadata": {
    "collapsed": true
   },
   "outputs": [
    {
     "name": "stdout",
     "output_type": "stream",
     "text": [
      "02\n",
      "03\n",
      "07\n",
      "09\n",
      "27\n",
      "31\n",
      "08\n",
      "24\n",
      "03\n",
      "18\n",
      "19\n",
      "19\n",
      "19\n",
      "22\n",
      "24\n",
      "30\n",
      "06\n",
      "10\n",
      "14\n",
      "28\n",
      "03\n",
      "07\n",
      "13\n",
      "20\n",
      "21\n",
      "21\n",
      "25\n",
      "27\n",
      "28\n",
      "31\n",
      "31\n",
      "01\n",
      "01\n",
      "06\n",
      "07\n",
      "09\n",
      "10\n",
      "12\n",
      "14\n",
      "16\n",
      "16\n",
      "20\n",
      "25\n",
      "26\n",
      "28\n",
      "29\n",
      "29\n",
      "30\n",
      "30\n",
      "04\n",
      "07\n",
      "08\n",
      "11\n",
      "12\n",
      "20\n",
      "21\n",
      "23\n",
      "25\n",
      "04\n",
      "05\n",
      "06\n",
      "11\n",
      "15\n",
      "15\n",
      "13\n",
      "13\n",
      "16\n",
      "24\n"
     ]
    }
   ],
   "source": [
    "\n",
    "#splitten der acitivty_names\n",
    "for i in act_list:\n",
    "    years = i.split(\"_\")[1][:4]\n",
    "    months = i.split(\"_\")[1][4:6]\n",
    "    days = i.split(\"_\")[1][6:8]\n",
    "    print(days)\n",
    "\n",
    "    "
   ]
  },
  {
   "cell_type": "code",
   "execution_count": 25,
   "metadata": {},
   "outputs": [],
   "source": [
    "Laufen_dates = []\n",
    "Bike_dates = []\n",
    "swim_dates = []\n",
    "for act in act_list:\n",
    "    if act.count(\"Laufen\")==1:\n",
    "        #fill laufen_dates with the date of the current activity\n",
    "        Laufen_dates.append(act.split(\"_\")[1])\n",
    "    if act.count(\"Radfahren\")==1:\n",
    "        #fill laufen_dates with the date of the current activity\n",
    "        Bike_dates.append(act.split(\"_\")[1])\n",
    "    if act.count(\"Schwimmbadschwimmen\")==1 or act.count(\"Freiwasserschwimmen\")==1 :\n",
    "        #fill laufen_dates with the date of the current activity\n",
    "        swim_dates.append(act.split(\"_\")[1])\n",
    "    "
   ]
  },
  {
   "cell_type": "code",
   "execution_count": 26,
   "metadata": {},
   "outputs": [
    {
     "data": {
      "text/plain": [
       "['20200702-114346',\n",
       " '20200703-072708',\n",
       " '20200707-080206',\n",
       " '20200709-181939',\n",
       " '20200727-190032',\n",
       " '20200731-184613',\n",
       " '20200808-161803',\n",
       " '20200613-102722',\n",
       " '20200613-111055',\n",
       " '20200616-104057',\n",
       " '20200624-105509']"
      ]
     },
     "execution_count": 26,
     "metadata": {},
     "output_type": "execute_result"
    }
   ],
   "source": [
    "swim_dates"
   ]
  },
  {
   "cell_type": "code",
   "execution_count": 31,
   "metadata": {},
   "outputs": [
    {
     "data": {
      "text/plain": [
       "['timestamp',\n",
       " 'distance',\n",
       " 'enhanced_speed',\n",
       " 'enhanced_altitude',\n",
       " 'heart_rate',\n",
       " 'temperature',\n",
       " 'latitude',\n",
       " 'longitude']"
      ]
     },
     "execution_count": 31,
     "metadata": {},
     "output_type": "execute_result"
    }
   ],
   "source": [
    "import pandas as pd\n",
    "directory_link = r\"C:\\Users\\nicoj\\netcase\\1-Start-UP\\Triathlon\\Aktivitaeten_csv\\Radfahren_20200609-112332_.csv\"\n",
    "df = pd.read_csv(directory_link, index_col = 0)\n",
    "list(df.columns)"
   ]
  },
  {
   "cell_type": "code",
   "execution_count": null,
   "metadata": {},
   "outputs": [],
   "source": []
  }
 ],
 "metadata": {
  "kernelspec": {
   "display_name": "Python 3",
   "language": "python",
   "name": "python3"
  },
  "language_info": {
   "codemirror_mode": {
    "name": "ipython",
    "version": 3
   },
   "file_extension": ".py",
   "mimetype": "text/x-python",
   "name": "python",
   "nbconvert_exporter": "python",
   "pygments_lexer": "ipython3",
   "version": "3.8.2"
  }
 },
 "nbformat": 4,
 "nbformat_minor": 4
}
