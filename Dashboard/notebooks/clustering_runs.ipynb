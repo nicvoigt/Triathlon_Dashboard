{
 "cells": [
  {
   "cell_type": "code",
   "execution_count": 1,
   "metadata": {},
   "outputs": [
    {
     "name": "stderr",
     "output_type": "stream",
     "text": [
      "C:\\Users\\nicoj\\anaconda3\\envs\\hreg\\lib\\importlib\\_bootstrap.py:219: RuntimeWarning: numpy.ufunc size changed, may indicate binary incompatibility. Expected 192 from C header, got 216 from PyObject\n",
      "  return f(*args, **kwds)\n"
     ]
    }
   ],
   "source": [
    "import pandas as pd\n",
    "import matplotlib.pyplot as plt\n",
    "from sklearn.cluster import KMeans"
   ]
  },
  {
   "cell_type": "code",
   "execution_count": 18,
   "metadata": {},
   "outputs": [],
   "source": [
    "df1 = pd.read_csv(r\"C:\\Users\\nicoj\\netcase\\1-Start-UP\\Triathlon\\Aktivitaeten_csv\\Laufen_20200908-181946.csv\")\n",
    "df2 = pd.read_csv(r\"C:\\Users\\nicoj\\netcase\\1-Start-UP\\Triathlon\\Aktivitaeten_csv\\Laufen_20200819-182121.csv\")\n",
    "df3 = pd.read_csv(r\"C:\\Users\\nicoj\\netcase\\1-Start-UP\\Triathlon\\Aktivitaeten_csv\\Laufen_20200819-182121.csv\")"
   ]
  },
  {
   "cell_type": "code",
   "execution_count": 27,
   "metadata": {},
   "outputs": [
    {
     "data": {
      "text/plain": [
       "<matplotlib.collections.PathCollection at 0x1bed0f1dcc0>"
      ]
     },
     "execution_count": 27,
     "metadata": {},
     "output_type": "execute_result"
    },
    {
     "data": {
      "image/png": "[encoded data removed]",
      "text/plain": [
       "<Figure size 432x288 with 1 Axes>"
      ]
     },
     "metadata": {
      "needs_background": "light"
     },
     "output_type": "display_data"
    }
   ],
   "source": [
    "plt.scatter(x = df1[\"latitude\"], y = df1[\"longitude\"])\n",
    "plt.scatter(x = df2[\"latitude\"], y = df2[\"longitude\"])\n"
   ]
  },
  {
   "cell_type": "code",
   "execution_count": 12,
   "metadata": {},
   "outputs": [
    {
     "data": {
      "text/plain": [
       "numpy.float64"
      ]
     },
     "execution_count": 12,
     "metadata": {},
     "output_type": "execute_result"
    }
   ],
   "source": [
    "type(df2[\"latitude\"][0])"
   ]
  },
  {
   "cell_type": "code",
   "execution_count": 16,
   "metadata": {},
   "outputs": [],
   "source": [
    "df1[\"latitude\"] = pd.to_numeric(df1[\"latitude\"])\n",
    "df1[\"longitude\"] = pd.to_numeric(df1[\"longitude\"])"
   ]
  },
  {
   "cell_type": "code",
   "execution_count": 17,
   "metadata": {},
   "outputs": [
    {
     "data": {
      "text/html": [
       "<div>\n",
       "<style scoped>\n",
       "    .dataframe tbody tr th:only-of-type {\n",
       "        vertical-align: middle;\n",
       "    }\n",
       "\n",
       "    .dataframe tbody tr th {\n",
       "        vertical-align: top;\n",
       "    }\n",
       "\n",
       "    .dataframe thead th {\n",
       "        text-align: right;\n",
       "    }\n",
       "</style>\n",
       "<table border=\"1\" class=\"dataframe\">\n",
       "  <thead>\n",
       "    <tr style=\"text-align: right;\">\n",
       "      <th></th>\n",
       "      <th>Unnamed: 0</th>\n",
       "      <th>timestamp</th>\n",
       "      <th>Distanz</th>\n",
       "      <th>Geschwindigkeit</th>\n",
       "      <th>Höhe</th>\n",
       "      <th>Herzfrequenz</th>\n",
       "      <th>Temperatur</th>\n",
       "      <th>latitude</th>\n",
       "      <th>longitude</th>\n",
       "    </tr>\n",
       "  </thead>\n",
       "  <tbody>\n",
       "    <tr>\n",
       "      <th>0</th>\n",
       "      <td>0</td>\n",
       "      <td>2020-09-08 18:19:46</td>\n",
       "      <td>0.70</td>\n",
       "      <td>0.009</td>\n",
       "      <td>223.8</td>\n",
       "      <td>89</td>\n",
       "      <td>28</td>\n",
       "      <td>572995380</td>\n",
       "      <td>93205603</td>\n",
       "    </tr>\n",
       "    <tr>\n",
       "      <th>1</th>\n",
       "      <td>1</td>\n",
       "      <td>2020-09-08 18:19:51</td>\n",
       "      <td>13.34</td>\n",
       "      <td>1.624</td>\n",
       "      <td>223.8</td>\n",
       "      <td>90</td>\n",
       "      <td>29</td>\n",
       "      <td>572996007</td>\n",
       "      <td>93207369</td>\n",
       "    </tr>\n",
       "    <tr>\n",
       "      <th>2</th>\n",
       "      <td>2</td>\n",
       "      <td>2020-09-08 18:19:56</td>\n",
       "      <td>29.76</td>\n",
       "      <td>2.799</td>\n",
       "      <td>223.8</td>\n",
       "      <td>100</td>\n",
       "      <td>29</td>\n",
       "      <td>572996894</td>\n",
       "      <td>93209616</td>\n",
       "    </tr>\n",
       "    <tr>\n",
       "      <th>3</th>\n",
       "      <td>3</td>\n",
       "      <td>2020-09-08 18:19:57</td>\n",
       "      <td>32.79</td>\n",
       "      <td>2.463</td>\n",
       "      <td>223.8</td>\n",
       "      <td>108</td>\n",
       "      <td>29</td>\n",
       "      <td>572997106</td>\n",
       "      <td>93209984</td>\n",
       "    </tr>\n",
       "    <tr>\n",
       "      <th>4</th>\n",
       "      <td>4</td>\n",
       "      <td>2020-09-08 18:19:58</td>\n",
       "      <td>36.12</td>\n",
       "      <td>2.370</td>\n",
       "      <td>223.8</td>\n",
       "      <td>108</td>\n",
       "      <td>29</td>\n",
       "      <td>572997320</td>\n",
       "      <td>93210410</td>\n",
       "    </tr>\n",
       "  </tbody>\n",
       "</table>\n",
       "</div>"
      ],
      "text/plain": [
       "   Unnamed: 0            timestamp  Distanz  Geschwindigkeit   Höhe  \\\n",
       "0           0  2020-09-08 18:19:46     0.70            0.009  223.8   \n",
       "1           1  2020-09-08 18:19:51    13.34            1.624  223.8   \n",
       "2           2  2020-09-08 18:19:56    29.76            2.799  223.8   \n",
       "3           3  2020-09-08 18:19:57    32.79            2.463  223.8   \n",
       "4           4  2020-09-08 18:19:58    36.12            2.370  223.8   \n",
       "\n",
       "   Herzfrequenz  Temperatur   latitude  longitude  \n",
       "0            89          28  572995380   93205603  \n",
       "1            90          29  572996007   93207369  \n",
       "2           100          29  572996894   93209616  \n",
       "3           108          29  572997106   93209984  \n",
       "4           108          29  572997320   93210410  "
      ]
     },
     "execution_count": 17,
     "metadata": {},
     "output_type": "execute_result"
    }
   ],
   "source": [
    "kmeans = KMeans(n_clusters=2, random_state=0).fit(X)"
   ]
  },
  {
   "cell_type": "code",
   "execution_count": null,
   "metadata": {},
   "outputs": [],
   "source": [
    "k_means."
   ]
  }
 ],
 "metadata": {
  "kernelspec": {
   "display_name": "Python 3",
   "language": "python",
   "name": "python3"
  },
  "language_info": {
   "codemirror_mode": {
    "name": "ipython",
    "version": 3
   },
   "file_extension": ".py",
   "mimetype": "text/x-python",
   "name": "python",
   "nbconvert_exporter": "python",
   "pygments_lexer": "ipython3",
   "version": "3.6.10"
  }
 },
 "nbformat": 4,
 "nbformat_minor": 4
}
